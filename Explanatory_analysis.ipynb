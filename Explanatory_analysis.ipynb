{
 "cells": [
  {
   "cell_type": "markdown",
   "metadata": {},
   "source": [
    "# Bikesharing Data Exploration\n",
    "\n",
    "## Table of Contents\n",
    "<ul>\n",
    "<li><a href=\"#intro\">Introduction</a></li>\n",
    "<li><a href=\"#wrangling\">Data Wrangling</a></li>\n",
    "<li><a href=\"#eda\">Exploratory Data Analysis</a></li>\n",
    "</ul>"
   ]
  },
  {
   "cell_type": "markdown",
   "metadata": {},
   "source": [
    "<a id='intro'></a>\n",
    "## Introduction\n",
    "\n",
    "This document explores two datasets containing data regarding the bikesharing systems in the San Francisco and the Boston area. Each dataset contains approximately 2.5 mio. observations about rental bike utilization within the year 2019."
   ]
  },
  {
   "cell_type": "code",
   "execution_count": 1,
   "metadata": {},
   "outputs": [],
   "source": [
    "# Importing libraries\n",
    "import pandas as pd\n",
    "import numpy as np\n",
    "import matplotlib.pyplot as plt\n",
    "import matplotlib.ticker as mtick\n",
    "import os\n",
    "import requests\n",
    "import zipfile\n",
    "import seaborn as sb"
   ]
  },
  {
   "cell_type": "markdown",
   "metadata": {},
   "source": [
    "<a id='wrangling'></a>\n",
    "## Data Wrangling\n",
    "Subsequently the Data Wrangling for the bike sharing data is performed. As this process step is not the focus of this project, the subsequent explanations will be minimal.\n",
    "\n",
    "### a. Gather\n",
    "\n",
    "#### I. Download project bikesharing data for San Francisco area programmatically"
   ]
  },
  {
   "cell_type": "code",
   "execution_count": 2,
   "metadata": {},
   "outputs": [],
   "source": [
    "# List with ziped file urls for San Francisco data\n",
    "url_list = ['https://s3.amazonaws.com/baywheels-data/201901-fordgobike-tripdata.csv.zip',\n",
    "            'https://s3.amazonaws.com/baywheels-data/201902-fordgobike-tripdata.csv.zip',\n",
    "            'https://s3.amazonaws.com/baywheels-data/201903-fordgobike-tripdata.csv.zip',\n",
    "            'https://s3.amazonaws.com/baywheels-data/201904-fordgobike-tripdata.csv.zip',\n",
    "            'https://s3.amazonaws.com/baywheels-data/201905-baywheels-tripdata.csv.zip',\n",
    "            'https://s3.amazonaws.com/baywheels-data/201906-baywheels-tripdata.csv.zip',\n",
    "            'https://s3.amazonaws.com/baywheels-data/201907-baywheels-tripdata.csv.zip',\n",
    "            'https://s3.amazonaws.com/baywheels-data/201908-baywheels-tripdata.csv.zip',\n",
    "            'https://s3.amazonaws.com/baywheels-data/201909-baywheels-tripdata.csv.zip',\n",
    "            'https://s3.amazonaws.com/baywheels-data/201910-baywheels-tripdata.csv.zip',\n",
    "            'https://s3.amazonaws.com/baywheels-data/201911-baywheels-tripdata.csv.zip',\n",
    "            'https://s3.amazonaws.com/baywheels-data/201912-baywheels-tripdata.csv.zip']\n",
    "\n",
    "# To be created folder name\n",
    "folder_name = 'bikeshare_SF'"
   ]
  },
  {
   "cell_type": "code",
   "execution_count": 3,
   "metadata": {},
   "outputs": [],
   "source": [
    "# Create folder for San Francisco data\n",
    "if not os.path.exists(folder_name):\n",
    "    os.makedirs(folder_name)\n",
    "\n",
    "exceptions_list = []\n",
    "    \n",
    "# Download zip files from urls and unzip them in project folder\n",
    "for url in url_list:\n",
    "    response = requests.get(url)\n",
    "    \n",
    "    try:\n",
    "        with open(os.path.join(folder_name, url.split('/')[4]), mode = 'wb') as file:\n",
    "            file.write(response.content)\n",
    "\n",
    "        file_name = url.split('/')[4]\n",
    "        file_path = folder_name + '/' + file_name\n",
    "\n",
    "        with zipfile.ZipFile(file_path, 'r') as myzip:\n",
    "            myzip.extractall(folder_name)\n",
    "\n",
    "\n",
    "    except Exception as e:\n",
    "        exceptions_list.append(url)"
   ]
  },
  {
   "cell_type": "markdown",
   "metadata": {},
   "source": [
    "#### II. Create reference model for overall dataframe"
   ]
  },
  {
   "cell_type": "code",
   "execution_count": 4,
   "metadata": {},
   "outputs": [],
   "source": [
    "# Read first csv-file and create df_reference\n",
    "url_reference = 'https://s3.amazonaws.com/baywheels-data/201901-fordgobike-tripdata.csv.zip'\n",
    "\n",
    "path_zip = folder_name + '/' + url_reference.split('/')[4]\n",
    "path_csv = path_zip.rstrip('.zip')\n",
    "\n",
    "df_reference = pd.read_csv(path_csv)"
   ]
  },
  {
   "cell_type": "markdown",
   "metadata": {},
   "source": [
    "Knowledge from visual inspection of csv-files and previous tries to create overall dataframe:\n",
    "- columns 'rental_access_method' and 'bike_share_for_all_trip' exist in some, but not all csv-files\n",
    "- column 'user_type' within some of the csv-files causes problems when joining dataframes\n",
    "\n",
    "**-> Removal of problematic columns from reference_model**"
   ]
  },
  {
   "cell_type": "code",
   "execution_count": 5,
   "metadata": {},
   "outputs": [],
   "source": [
    "# Drop problemartic columns\n",
    "df_reference.drop(['bike_share_for_all_trip'], axis = 1, inplace=True)"
   ]
  },
  {
   "cell_type": "code",
   "execution_count": 6,
   "metadata": {},
   "outputs": [],
   "source": [
    "# Save columns from reference model in list 'columns_reference'\n",
    "columns_reference = df_reference.columns"
   ]
  },
  {
   "cell_type": "markdown",
   "metadata": {},
   "source": [
    "#### III. Join data from csv-files to single dataframe df"
   ]
  },
  {
   "cell_type": "code",
   "execution_count": 7,
   "metadata": {},
   "outputs": [],
   "source": [
    "# Appending all refernce column to df\n",
    "df = pd.DataFrame()\n",
    "\n",
    "for url in url_list:\n",
    "    path_zip = folder_name + '/' + url.split('/')[4]\n",
    "    path_csv = path_zip.rstrip('.zip')\n",
    "    \n",
    "    # Importing dat from csv to df\n",
    "    df_import = pd.read_csv(path_csv, dtype={'start_station_id': np.float32, 'start_station_latitude': np.float32, \n",
    "                                             'start_station_longitude':np.float32, 'end_station_id': np.float32, \n",
    "                                             'end_station_latitude': np.float32, 'end_station_longitude':np.float32,\n",
    "                                             'user_type': 'category', 'bike_share_for_all_trip': 'category',\n",
    "                                             'rental_access_method': 'category'})\n",
    "    \n",
    "    #Creating new help dataframe which only contains reference columns\n",
    "    df_help = pd.DataFrame()\n",
    "    \n",
    "    for c in columns_reference:\n",
    "        df_help[c] = df_import[c]\n",
    "        \n",
    "    # Appending dataframe with reference columns to df\n",
    "    df = df.append(df_help, ignore_index = True, sort = False)"
   ]
  },
  {
   "cell_type": "markdown",
   "metadata": {},
   "source": [
    "#### IV. Store dataframe df as csv-file"
   ]
  },
  {
   "cell_type": "code",
   "execution_count": 8,
   "metadata": {},
   "outputs": [],
   "source": [
    "# Save df as csv-file in folder\n",
    "df.to_csv('dataset_san_francisco.csv', index=False)"
   ]
  },
  {
   "cell_type": "markdown",
   "metadata": {},
   "source": [
    "#### V. Download project bikesharing data for Boston area programmatically"
   ]
  },
  {
   "cell_type": "code",
   "execution_count": 9,
   "metadata": {},
   "outputs": [],
   "source": [
    "# List with ziped file urls for Boston data\n",
    "url_list = ['https://s3.amazonaws.com/hubway-data/201901-bluebikes-tripdata.zip',\n",
    "            'https://s3.amazonaws.com/hubway-data/201902-bluebikes-tripdata.zip',\n",
    "            'https://s3.amazonaws.com/hubway-data/201903-bluebikes-tripdata.zip',\n",
    "            'https://s3.amazonaws.com/hubway-data/201904-bluebikes-tripdata.zip',\n",
    "            'https://s3.amazonaws.com/hubway-data/201905-bluebikes-tripdata.zip',\n",
    "            'https://s3.amazonaws.com/hubway-data/201906-bluebikes-tripdata.zip',\n",
    "            'https://s3.amazonaws.com/hubway-data/201907-bluebikes-tripdata.zip',\n",
    "            'https://s3.amazonaws.com/hubway-data/201908-bluebikes-tripdata.zip',\n",
    "            'https://s3.amazonaws.com/hubway-data/201909-bluebikes-tripdata.zip',\n",
    "            'https://s3.amazonaws.com/hubway-data/201910-bluebikes-tripdata.zip',\n",
    "            'https://s3.amazonaws.com/hubway-data/201911-bluebikes-tripdata.zip',\n",
    "            'https://s3.amazonaws.com/hubway-data/201912-bluebikes-tripdata.zip']\n",
    "\n",
    "# To be created folder name\n",
    "folder_name = 'bikeshare_BO'"
   ]
  },
  {
   "cell_type": "code",
   "execution_count": 10,
   "metadata": {},
   "outputs": [],
   "source": [
    "# Create folder for Boston data\n",
    "if not os.path.exists(folder_name):\n",
    "    os.makedirs(folder_name)\n",
    "\n",
    "exceptions_list = []\n",
    "    \n",
    "# Download zip files from urls and unzip them in project folder\n",
    "for url in url_list:\n",
    "    response = requests.get(url)\n",
    "    \n",
    "    try:\n",
    "        with open(os.path.join(folder_name, url.split('/')[4]), mode = 'wb') as file:\n",
    "            file.write(response.content)\n",
    "\n",
    "        file_name = url.split('/')[4]\n",
    "        file_path = folder_name + '/' + file_name\n",
    "\n",
    "        with zipfile.ZipFile(file_path, 'r') as myzip:\n",
    "            myzip.extractall(folder_name)\n",
    "\n",
    "\n",
    "    except Exception as e:\n",
    "        exceptions_list.append(url)"
   ]
  },
  {
   "cell_type": "markdown",
   "metadata": {},
   "source": [
    "Note: Following errors concerning the data have been noticed\n",
    "- **'201906-bluebikes-tripdata.zip'** contained the csv file '201907-bluebikes-tripdata.csv' and has to be changed to '201906-bluebikes-tripdata.csv'\n",
    "- **'201907-bluebikes-tripdata.zip'** contained a file without the ending **.csv** and has to be changed to '201907-bluebikes-tripdata.csv'\n",
    "- **'201908-bluebikes-tripdata.zip'** contained a file without the ending **.csv** and has been changed manually to '201908-bluebikes-tripdata.csv'"
   ]
  },
  {
   "cell_type": "code",
   "execution_count": 11,
   "metadata": {},
   "outputs": [],
   "source": [
    "# Resolving errors from programmatical download\n",
    "# Error 1: Rename '201907-bluebikes-tripdata.csv' to '201906-bluebikes-tripdata.csv'\n",
    "os.rename('bikeshare_BO/201907-bluebikes.tripdata.csv', 'bikeshare_BO/201906-bluebikes-tripdata.csv')\n",
    "\n",
    "# Error 2: Rename '201907-bluebikes-tripdata' to '201907-bluebikes-tripdata.csv'\n",
    "os.rename('bikeshare_BO/201907-bluebikes-tripdata', 'bikeshare_BO/201907-bluebikes-tripdata.csv')\n",
    "\n",
    "# Error 3: Rename '201908-bluebikes-tripdata' to '201908-bluebikes-tripdata.csv'\n",
    "os.rename('bikeshare_BO/201908-bluebikes-tripdata', 'bikeshare_BO/201908-bluebikes-tripdata.csv')"
   ]
  },
  {
   "cell_type": "markdown",
   "metadata": {},
   "source": [
    "#### VI. Join data from csv-files to single dataframe df2"
   ]
  },
  {
   "cell_type": "code",
   "execution_count": 12,
   "metadata": {},
   "outputs": [],
   "source": [
    "# Create new dataframe\n",
    "df2 = pd.DataFrame()\n",
    "\n",
    "# Append all data within csv_file to datframe\n",
    "for url in url_list:\n",
    "    path_zip = folder_name + '/' + url.split('/')[4]\n",
    "    path_csv = path_zip.rstrip('.zip')\n",
    "    path_csv = path_csv + '.csv'\n",
    "    \n",
    "    df_help = pd.read_csv(path_csv, dtype={'start station id': np.float32, 'start station latitude': np.float32,\n",
    "                                           'start station longitude':np.float32, 'end station id': np.float32,\n",
    "                                           'end station latitude': np.float32, 'end station longitude':np.float32,\n",
    "                                           'usertype': 'category'}) \n",
    "\n",
    "    df2 = df2.append(df_help, ignore_index = True, sort = False)"
   ]
  },
  {
   "cell_type": "markdown",
   "metadata": {},
   "source": [
    "#### VII. Store dataframe df as csv-file"
   ]
  },
  {
   "cell_type": "code",
   "execution_count": 13,
   "metadata": {},
   "outputs": [],
   "source": [
    "# Save df as csv-file in folder\n",
    "df2.to_csv('dataset_boston.csv', index=False)"
   ]
  },
  {
   "cell_type": "markdown",
   "metadata": {},
   "source": [
    "### b. Assess\n",
    "In order to sufficiently understand the data within the two datasets, the shape, rows and columns are examined."
   ]
  },
  {
   "cell_type": "markdown",
   "metadata": {},
   "source": [
    "#### I. Visual assessment of df"
   ]
  },
  {
   "cell_type": "code",
   "execution_count": 14,
   "metadata": {},
   "outputs": [
    {
     "data": {
      "text/html": [
       "<div>\n",
       "<style scoped>\n",
       "    .dataframe tbody tr th:only-of-type {\n",
       "        vertical-align: middle;\n",
       "    }\n",
       "\n",
       "    .dataframe tbody tr th {\n",
       "        vertical-align: top;\n",
       "    }\n",
       "\n",
       "    .dataframe thead th {\n",
       "        text-align: right;\n",
       "    }\n",
       "</style>\n",
       "<table border=\"1\" class=\"dataframe\">\n",
       "  <thead>\n",
       "    <tr style=\"text-align: right;\">\n",
       "      <th></th>\n",
       "      <th>duration_sec</th>\n",
       "      <th>start_time</th>\n",
       "      <th>end_time</th>\n",
       "      <th>start_station_id</th>\n",
       "      <th>start_station_name</th>\n",
       "      <th>start_station_latitude</th>\n",
       "      <th>start_station_longitude</th>\n",
       "      <th>end_station_id</th>\n",
       "      <th>end_station_name</th>\n",
       "      <th>end_station_latitude</th>\n",
       "      <th>end_station_longitude</th>\n",
       "      <th>bike_id</th>\n",
       "      <th>user_type</th>\n",
       "    </tr>\n",
       "  </thead>\n",
       "  <tbody>\n",
       "    <tr>\n",
       "      <th>0</th>\n",
       "      <td>80825</td>\n",
       "      <td>2019-01-31 17:57:44.6130</td>\n",
       "      <td>2019-02-01 16:24:49.8640</td>\n",
       "      <td>229.0</td>\n",
       "      <td>Foothill Blvd at 42nd Ave</td>\n",
       "      <td>37.775745</td>\n",
       "      <td>-122.213036</td>\n",
       "      <td>196.0</td>\n",
       "      <td>Grand Ave at Perkins St</td>\n",
       "      <td>37.808895</td>\n",
       "      <td>-122.256462</td>\n",
       "      <td>4861</td>\n",
       "      <td>Subscriber</td>\n",
       "    </tr>\n",
       "    <tr>\n",
       "      <th>1</th>\n",
       "      <td>65900</td>\n",
       "      <td>2019-01-31 20:58:33.8860</td>\n",
       "      <td>2019-02-01 15:16:54.1730</td>\n",
       "      <td>4.0</td>\n",
       "      <td>Cyril Magnin St at Ellis St</td>\n",
       "      <td>37.785881</td>\n",
       "      <td>-122.408913</td>\n",
       "      <td>134.0</td>\n",
       "      <td>Valencia St at 24th St</td>\n",
       "      <td>37.752426</td>\n",
       "      <td>-122.420631</td>\n",
       "      <td>5506</td>\n",
       "      <td>Subscriber</td>\n",
       "    </tr>\n",
       "    <tr>\n",
       "      <th>2</th>\n",
       "      <td>62633</td>\n",
       "      <td>2019-01-31 18:06:52.9240</td>\n",
       "      <td>2019-02-01 11:30:46.5300</td>\n",
       "      <td>245.0</td>\n",
       "      <td>Downtown Berkeley BART</td>\n",
       "      <td>37.870140</td>\n",
       "      <td>-122.268425</td>\n",
       "      <td>157.0</td>\n",
       "      <td>65th St at Hollis St</td>\n",
       "      <td>37.846783</td>\n",
       "      <td>-122.291374</td>\n",
       "      <td>2717</td>\n",
       "      <td>Customer</td>\n",
       "    </tr>\n",
       "    <tr>\n",
       "      <th>3</th>\n",
       "      <td>44680</td>\n",
       "      <td>2019-01-31 19:46:09.7190</td>\n",
       "      <td>2019-02-01 08:10:50.3180</td>\n",
       "      <td>85.0</td>\n",
       "      <td>Church St at Duboce Ave</td>\n",
       "      <td>37.770084</td>\n",
       "      <td>-122.429153</td>\n",
       "      <td>53.0</td>\n",
       "      <td>Grove St at Divisadero</td>\n",
       "      <td>37.775948</td>\n",
       "      <td>-122.437775</td>\n",
       "      <td>4557</td>\n",
       "      <td>Customer</td>\n",
       "    </tr>\n",
       "    <tr>\n",
       "      <th>4</th>\n",
       "      <td>60709</td>\n",
       "      <td>2019-01-31 14:19:01.5410</td>\n",
       "      <td>2019-02-01 07:10:51.0650</td>\n",
       "      <td>16.0</td>\n",
       "      <td>Steuart St at Market St</td>\n",
       "      <td>37.794128</td>\n",
       "      <td>-122.394432</td>\n",
       "      <td>28.0</td>\n",
       "      <td>The Embarcadero at Bryant St</td>\n",
       "      <td>37.787167</td>\n",
       "      <td>-122.388100</td>\n",
       "      <td>2100</td>\n",
       "      <td>Customer</td>\n",
       "    </tr>\n",
       "  </tbody>\n",
       "</table>\n",
       "</div>"
      ],
      "text/plain": [
       "   duration_sec                start_time                  end_time  \\\n",
       "0         80825  2019-01-31 17:57:44.6130  2019-02-01 16:24:49.8640   \n",
       "1         65900  2019-01-31 20:58:33.8860  2019-02-01 15:16:54.1730   \n",
       "2         62633  2019-01-31 18:06:52.9240  2019-02-01 11:30:46.5300   \n",
       "3         44680  2019-01-31 19:46:09.7190  2019-02-01 08:10:50.3180   \n",
       "4         60709  2019-01-31 14:19:01.5410  2019-02-01 07:10:51.0650   \n",
       "\n",
       "   start_station_id           start_station_name  start_station_latitude  \\\n",
       "0             229.0    Foothill Blvd at 42nd Ave               37.775745   \n",
       "1               4.0  Cyril Magnin St at Ellis St               37.785881   \n",
       "2             245.0       Downtown Berkeley BART               37.870140   \n",
       "3              85.0      Church St at Duboce Ave               37.770084   \n",
       "4              16.0      Steuart St at Market St               37.794128   \n",
       "\n",
       "   start_station_longitude  end_station_id              end_station_name  \\\n",
       "0              -122.213036           196.0       Grand Ave at Perkins St   \n",
       "1              -122.408913           134.0        Valencia St at 24th St   \n",
       "2              -122.268425           157.0          65th St at Hollis St   \n",
       "3              -122.429153            53.0        Grove St at Divisadero   \n",
       "4              -122.394432            28.0  The Embarcadero at Bryant St   \n",
       "\n",
       "   end_station_latitude  end_station_longitude  bike_id   user_type  \n",
       "0             37.808895            -122.256462     4861  Subscriber  \n",
       "1             37.752426            -122.420631     5506  Subscriber  \n",
       "2             37.846783            -122.291374     2717    Customer  \n",
       "3             37.775948            -122.437775     4557    Customer  \n",
       "4             37.787167            -122.388100     2100    Customer  "
      ]
     },
     "execution_count": 14,
     "metadata": {},
     "output_type": "execute_result"
    }
   ],
   "source": [
    "df.head()"
   ]
  },
  {
   "cell_type": "markdown",
   "metadata": {},
   "source": [
    "#### II. Visual assessment of df2"
   ]
  },
  {
   "cell_type": "code",
   "execution_count": 21,
   "metadata": {},
   "outputs": [
    {
     "data": {
      "text/html": [
       "<div>\n",
       "<style scoped>\n",
       "    .dataframe tbody tr th:only-of-type {\n",
       "        vertical-align: middle;\n",
       "    }\n",
       "\n",
       "    .dataframe tbody tr th {\n",
       "        vertical-align: top;\n",
       "    }\n",
       "\n",
       "    .dataframe thead th {\n",
       "        text-align: right;\n",
       "    }\n",
       "</style>\n",
       "<table border=\"1\" class=\"dataframe\">\n",
       "  <thead>\n",
       "    <tr style=\"text-align: right;\">\n",
       "      <th></th>\n",
       "      <th>tripduration</th>\n",
       "      <th>starttime</th>\n",
       "      <th>stoptime</th>\n",
       "      <th>start station id</th>\n",
       "      <th>start station name</th>\n",
       "      <th>start station latitude</th>\n",
       "      <th>start station longitude</th>\n",
       "      <th>end station id</th>\n",
       "      <th>end station name</th>\n",
       "      <th>end station latitude</th>\n",
       "      <th>end station longitude</th>\n",
       "      <th>bikeid</th>\n",
       "      <th>usertype</th>\n",
       "      <th>birth year</th>\n",
       "      <th>gender</th>\n",
       "    </tr>\n",
       "  </thead>\n",
       "  <tbody>\n",
       "    <tr>\n",
       "      <th>0</th>\n",
       "      <td>371</td>\n",
       "      <td>2019-01-01 00:09:13.7980</td>\n",
       "      <td>2019-01-01 00:15:25.3360</td>\n",
       "      <td>80.0</td>\n",
       "      <td>MIT Stata Center at Vassar St / Main St</td>\n",
       "      <td>42.362133</td>\n",
       "      <td>-71.091156</td>\n",
       "      <td>179.0</td>\n",
       "      <td>MIT Vassar St</td>\n",
       "      <td>42.355602</td>\n",
       "      <td>-71.103943</td>\n",
       "      <td>3689</td>\n",
       "      <td>Subscriber</td>\n",
       "      <td>1987</td>\n",
       "      <td>1</td>\n",
       "    </tr>\n",
       "    <tr>\n",
       "      <th>1</th>\n",
       "      <td>264</td>\n",
       "      <td>2019-01-01 00:33:56.1820</td>\n",
       "      <td>2019-01-01 00:38:20.8800</td>\n",
       "      <td>117.0</td>\n",
       "      <td>Binney St / Sixth St</td>\n",
       "      <td>42.366161</td>\n",
       "      <td>-71.086884</td>\n",
       "      <td>189.0</td>\n",
       "      <td>Kendall T</td>\n",
       "      <td>42.362427</td>\n",
       "      <td>-71.084953</td>\n",
       "      <td>4142</td>\n",
       "      <td>Subscriber</td>\n",
       "      <td>1990</td>\n",
       "      <td>1</td>\n",
       "    </tr>\n",
       "    <tr>\n",
       "      <th>2</th>\n",
       "      <td>458</td>\n",
       "      <td>2019-01-01 00:41:54.6000</td>\n",
       "      <td>2019-01-01 00:49:33.2730</td>\n",
       "      <td>68.0</td>\n",
       "      <td>Central Square at Mass Ave / Essex St</td>\n",
       "      <td>42.365070</td>\n",
       "      <td>-71.103104</td>\n",
       "      <td>96.0</td>\n",
       "      <td>Cambridge Main Library at Broadway / Trowbridg...</td>\n",
       "      <td>42.373379</td>\n",
       "      <td>-71.111076</td>\n",
       "      <td>1628</td>\n",
       "      <td>Subscriber</td>\n",
       "      <td>1977</td>\n",
       "      <td>1</td>\n",
       "    </tr>\n",
       "    <tr>\n",
       "      <th>3</th>\n",
       "      <td>364</td>\n",
       "      <td>2019-01-01 00:43:32.5710</td>\n",
       "      <td>2019-01-01 00:49:37.4260</td>\n",
       "      <td>89.0</td>\n",
       "      <td>Harvard Law School at Mass Ave / Jarvis St</td>\n",
       "      <td>42.379009</td>\n",
       "      <td>-71.119942</td>\n",
       "      <td>334.0</td>\n",
       "      <td>Mass Ave at Hadley/Walden</td>\n",
       "      <td>42.391209</td>\n",
       "      <td>-71.122604</td>\n",
       "      <td>2969</td>\n",
       "      <td>Subscriber</td>\n",
       "      <td>1993</td>\n",
       "      <td>1</td>\n",
       "    </tr>\n",
       "    <tr>\n",
       "      <th>4</th>\n",
       "      <td>681</td>\n",
       "      <td>2019-01-01 00:49:56.4640</td>\n",
       "      <td>2019-01-01 01:01:17.7010</td>\n",
       "      <td>73.0</td>\n",
       "      <td>Harvard Square at Brattle St / Eliot St</td>\n",
       "      <td>42.373230</td>\n",
       "      <td>-71.120888</td>\n",
       "      <td>367.0</td>\n",
       "      <td>Vassal Lane at Tobin/VLUS</td>\n",
       "      <td>42.383934</td>\n",
       "      <td>-71.139610</td>\n",
       "      <td>3469</td>\n",
       "      <td>Subscriber</td>\n",
       "      <td>1979</td>\n",
       "      <td>2</td>\n",
       "    </tr>\n",
       "  </tbody>\n",
       "</table>\n",
       "</div>"
      ],
      "text/plain": [
       "   tripduration                 starttime                  stoptime  \\\n",
       "0           371  2019-01-01 00:09:13.7980  2019-01-01 00:15:25.3360   \n",
       "1           264  2019-01-01 00:33:56.1820  2019-01-01 00:38:20.8800   \n",
       "2           458  2019-01-01 00:41:54.6000  2019-01-01 00:49:33.2730   \n",
       "3           364  2019-01-01 00:43:32.5710  2019-01-01 00:49:37.4260   \n",
       "4           681  2019-01-01 00:49:56.4640  2019-01-01 01:01:17.7010   \n",
       "\n",
       "   start station id                          start station name  \\\n",
       "0              80.0     MIT Stata Center at Vassar St / Main St   \n",
       "1             117.0                        Binney St / Sixth St   \n",
       "2              68.0       Central Square at Mass Ave / Essex St   \n",
       "3              89.0  Harvard Law School at Mass Ave / Jarvis St   \n",
       "4              73.0     Harvard Square at Brattle St / Eliot St   \n",
       "\n",
       "   start station latitude  start station longitude  end station id  \\\n",
       "0               42.362133               -71.091156           179.0   \n",
       "1               42.366161               -71.086884           189.0   \n",
       "2               42.365070               -71.103104            96.0   \n",
       "3               42.379009               -71.119942           334.0   \n",
       "4               42.373230               -71.120888           367.0   \n",
       "\n",
       "                                    end station name  end station latitude  \\\n",
       "0                                      MIT Vassar St             42.355602   \n",
       "1                                          Kendall T             42.362427   \n",
       "2  Cambridge Main Library at Broadway / Trowbridg...             42.373379   \n",
       "3                          Mass Ave at Hadley/Walden             42.391209   \n",
       "4                          Vassal Lane at Tobin/VLUS             42.383934   \n",
       "\n",
       "   end station longitude  bikeid    usertype  birth year  gender  \n",
       "0             -71.103943    3689  Subscriber        1987       1  \n",
       "1             -71.084953    4142  Subscriber        1990       1  \n",
       "2             -71.111076    1628  Subscriber        1977       1  \n",
       "3             -71.122604    2969  Subscriber        1993       1  \n",
       "4             -71.139610    3469  Subscriber        1979       2  "
      ]
     },
     "execution_count": 21,
     "metadata": {},
     "output_type": "execute_result"
    }
   ],
   "source": [
    "df2.head()"
   ]
  },
  {
   "cell_type": "markdown",
   "metadata": {},
   "source": [
    "#### III. Programatic assessment of df"
   ]
  },
  {
   "cell_type": "code",
   "execution_count": 16,
   "metadata": {},
   "outputs": [
    {
     "name": "stdout",
     "output_type": "stream",
     "text": [
      "<class 'pandas.core.frame.DataFrame'>\n",
      "RangeIndex: 2506983 entries, 0 to 2506982\n",
      "Data columns (total 13 columns):\n",
      " #   Column                   Dtype   \n",
      "---  ------                   -----   \n",
      " 0   duration_sec             int64   \n",
      " 1   start_time               object  \n",
      " 2   end_time                 object  \n",
      " 3   start_station_id         float32 \n",
      " 4   start_station_name       object  \n",
      " 5   start_station_latitude   float32 \n",
      " 6   start_station_longitude  float32 \n",
      " 7   end_station_id           float32 \n",
      " 8   end_station_name         object  \n",
      " 9   end_station_latitude     float32 \n",
      " 10  end_station_longitude    float32 \n",
      " 11  bike_id                  int64   \n",
      " 12  user_type                category\n",
      "dtypes: category(1), float32(6), int64(2), object(4)\n",
      "memory usage: 136.3+ MB\n"
     ]
    }
   ],
   "source": [
    "# General information about columns, rows and datatypes\n",
    "df.info()"
   ]
  },
  {
   "cell_type": "code",
   "execution_count": 17,
   "metadata": {},
   "outputs": [
    {
     "name": "stdout",
     "output_type": "stream",
     "text": [
      "duration_sec :  <class 'numpy.int64'>\n",
      "start_time :  <class 'str'>\n",
      "end_time :  <class 'str'>\n",
      "start_station_id :  <class 'numpy.float32'>\n",
      "start_station_name :  <class 'str'>\n",
      "start_station_latitude :  <class 'numpy.float32'>\n",
      "start_station_longitude :  <class 'numpy.float32'>\n",
      "end_station_id :  <class 'numpy.float32'>\n",
      "end_station_name :  <class 'str'>\n",
      "end_station_latitude :  <class 'numpy.float32'>\n",
      "end_station_longitude :  <class 'numpy.float32'>\n",
      "bike_id :  <class 'numpy.int64'>\n",
      "user_type :  <class 'str'>\n"
     ]
    }
   ],
   "source": [
    "# Checking datatypes of columns (object columns)\n",
    "for c in df.columns:\n",
    "    print(c, ': ', type(df[c][0]))"
   ]
  },
  {
   "cell_type": "code",
   "execution_count": 18,
   "metadata": {},
   "outputs": [
    {
     "data": {
      "text/html": [
       "<div>\n",
       "<style scoped>\n",
       "    .dataframe tbody tr th:only-of-type {\n",
       "        vertical-align: middle;\n",
       "    }\n",
       "\n",
       "    .dataframe tbody tr th {\n",
       "        vertical-align: top;\n",
       "    }\n",
       "\n",
       "    .dataframe thead th {\n",
       "        text-align: right;\n",
       "    }\n",
       "</style>\n",
       "<table border=\"1\" class=\"dataframe\">\n",
       "  <thead>\n",
       "    <tr style=\"text-align: right;\">\n",
       "      <th></th>\n",
       "      <th>duration_sec</th>\n",
       "      <th>start_time</th>\n",
       "      <th>end_time</th>\n",
       "      <th>start_station_id</th>\n",
       "      <th>start_station_name</th>\n",
       "      <th>start_station_latitude</th>\n",
       "      <th>start_station_longitude</th>\n",
       "      <th>end_station_id</th>\n",
       "      <th>end_station_name</th>\n",
       "      <th>end_station_latitude</th>\n",
       "      <th>end_station_longitude</th>\n",
       "      <th>bike_id</th>\n",
       "      <th>user_type</th>\n",
       "    </tr>\n",
       "  </thead>\n",
       "  <tbody>\n",
       "    <tr>\n",
       "      <th>1100507</th>\n",
       "      <td>1738</td>\n",
       "      <td>2019-06-23 12:58:20.5580</td>\n",
       "      <td>2019-06-23 13:27:18.8060</td>\n",
       "      <td>6.0</td>\n",
       "      <td>The Embarcadero at Sansome St</td>\n",
       "      <td>37.804771</td>\n",
       "      <td>-122.403236</td>\n",
       "      <td>130.0</td>\n",
       "      <td>22nd St Caltrain Station</td>\n",
       "      <td>37.757706</td>\n",
       "      <td>-122.391884</td>\n",
       "      <td>821</td>\n",
       "      <td>Subscriber</td>\n",
       "    </tr>\n",
       "  </tbody>\n",
       "</table>\n",
       "</div>"
      ],
      "text/plain": [
       "         duration_sec                start_time                  end_time  \\\n",
       "1100507          1738  2019-06-23 12:58:20.5580  2019-06-23 13:27:18.8060   \n",
       "\n",
       "         start_station_id             start_station_name  \\\n",
       "1100507               6.0  The Embarcadero at Sansome St   \n",
       "\n",
       "         start_station_latitude  start_station_longitude  end_station_id  \\\n",
       "1100507               37.804771              -122.403236           130.0   \n",
       "\n",
       "                 end_station_name  end_station_latitude  \\\n",
       "1100507  22nd St Caltrain Station             37.757706   \n",
       "\n",
       "         end_station_longitude  bike_id   user_type  \n",
       "1100507            -122.391884      821  Subscriber  "
      ]
     },
     "execution_count": 18,
     "metadata": {},
     "output_type": "execute_result"
    }
   ],
   "source": [
    "# Checking one random sample from the dataframe\n",
    "df.sample()"
   ]
  },
  {
   "cell_type": "code",
   "execution_count": 19,
   "metadata": {},
   "outputs": [
    {
     "name": "stdout",
     "output_type": "stream",
     "text": [
      "mean: 807.65 min:  60 max:  912110\n"
     ]
    }
   ],
   "source": [
    "# Calculating main values for column 'duration_sec' - too many rows to use function .describe()\n",
    "print('mean:', df.duration_sec.mean().round(2), 'min: ', df.duration_sec.min(), 'max: ', df.duration_sec.max())"
   ]
  },
  {
   "cell_type": "markdown",
   "metadata": {},
   "source": [
    "#### IV. Programatic assessment of df2"
   ]
  },
  {
   "cell_type": "code",
   "execution_count": 23,
   "metadata": {},
   "outputs": [
    {
     "name": "stdout",
     "output_type": "stream",
     "text": [
      "tripduration :  <class 'numpy.int64'>\n",
      "starttime :  <class 'str'>\n",
      "stoptime :  <class 'str'>\n",
      "start station id :  <class 'numpy.float32'>\n",
      "start station name :  <class 'str'>\n",
      "start station latitude :  <class 'numpy.float32'>\n",
      "start station longitude :  <class 'numpy.float32'>\n",
      "end station id :  <class 'numpy.float32'>\n",
      "end station name :  <class 'str'>\n",
      "end station latitude :  <class 'numpy.float32'>\n",
      "end station longitude :  <class 'numpy.float32'>\n",
      "bikeid :  <class 'numpy.int64'>\n",
      "usertype :  <class 'str'>\n",
      "birth year :  <class 'numpy.int64'>\n",
      "gender :  <class 'numpy.int64'>\n"
     ]
    }
   ],
   "source": [
    "# Checking datatypes of columns (object columns)\n",
    "for c in df2.columns:\n",
    "    print(c, ': ', type(df2[c][0]))"
   ]
  },
  {
   "cell_type": "code",
   "execution_count": 24,
   "metadata": {},
   "outputs": [
    {
     "name": "stdout",
     "output_type": "stream",
     "text": [
      "mean: 1471.83 min:  61 max:  3581049\n"
     ]
    }
   ],
   "source": [
    "# Calculating main values for column 'tripduration' - too many rows to use function .describe()\n",
    "print('mean:', df2.tripduration.mean().round(2), 'min: ', df2.tripduration.min(), 'max: ', df2.tripduration.max())"
   ]
  },
  {
   "cell_type": "markdown",
   "metadata": {},
   "source": [
    "#### Tidiness of data\n",
    "##### `df2`\n",
    "- Column names of df2 don't match with column names from df -> Rename column names\n",
    "\n",
    "\n",
    "#### Quality of data\n",
    "##### `df`\n",
    "- Removal of null-values from the dataframe df\n",
    "- Column 'start_time' to type datetime\n",
    "- Column 'end_time to type datetime\n",
    "- Column 'start_station_id' to type 'int'\n",
    "- Column 'end_station_id' to type 'int'\n",
    "\n",
    "##### `df2`\n",
    "- Removal of null-alues from dataframe df2\n",
    "- Removal of columns 'birth year' and 'gender' which have no counterpart in df\n",
    "- Column 'starttime' to type datetime\n",
    "- Column 'stoptime to type datetime"
   ]
  },
  {
   "cell_type": "markdown",
   "metadata": {},
   "source": [
    "### c. Clean\n",
    "In the Cleaning phase potential problems in the provided dataset are idtentified and subsequently solved. The data is brought into a state from which further analysis can be conducted.\n",
    "\n",
    "#### I. Clean df"
   ]
  },
  {
   "cell_type": "code",
   "execution_count": 10,
   "metadata": {},
   "outputs": [],
   "source": [
    "# Create df_clean from csv-file\n",
    "df_clean = pd.read_csv('dataset_san_francisco.csv', dtype={'start_station_id': np.float32, 'start_station_latitude': np.float32, \n",
    "                                             'start_station_longitude':np.float32, 'end_station_id': np.float32, \n",
    "                                             'end_station_latitude': np.float32, 'end_station_longitude':np.float32,\n",
    "                                             'user_type': 'category', 'bike_share_for_all_trip': 'category',\n",
    "                                             'rental_access_method': 'category'})"
   ]
  },
  {
   "cell_type": "markdown",
   "metadata": {},
   "source": [
    "##### Define\n",
    "##### `df_clean`\n",
    "- Removal of null-values from the dataframe df\n",
    "- Column 'start_time' to type datetime\n",
    "- Column 'end_time to type datetime\n",
    "- Column 'start_station_id' to type 'int'\n",
    "- Column 'end_station_id' to type 'int'\n",
    "\n",
    "##### Code"
   ]
  },
  {
   "cell_type": "code",
   "execution_count": 11,
   "metadata": {},
   "outputs": [],
   "source": [
    "# Removal of null-values from df\n",
    "df_clean.dropna(inplace=True)"
   ]
  },
  {
   "cell_type": "code",
   "execution_count": 12,
   "metadata": {},
   "outputs": [],
   "source": [
    "# Changing columns 'start_time' and 'endtime' to type 'datetime'\n",
    "columns_datetime = ['start_time', 'end_time']\n",
    "\n",
    "for c in columns_datetime:\n",
    "    df_clean[c] = pd.to_datetime(df_clean[c])"
   ]
  },
  {
   "cell_type": "code",
   "execution_count": 13,
   "metadata": {},
   "outputs": [],
   "source": [
    "# Changing columns 'start_station_id' and 'end_station_id' to type 'int'\n",
    "columns_int = ['start_station_id', 'end_station_id']\n",
    "\n",
    "for c in columns_int:\n",
    "    df_clean[c] = df_clean[c].astype(int)"
   ]
  },
  {
   "cell_type": "markdown",
   "metadata": {},
   "source": [
    "##### Check"
   ]
  },
  {
   "cell_type": "code",
   "execution_count": 14,
   "metadata": {},
   "outputs": [
    {
     "data": {
      "text/plain": [
       "False"
      ]
     },
     "execution_count": 14,
     "metadata": {},
     "output_type": "execute_result"
    }
   ],
   "source": [
    "# Any null-values left in dataframe?\n",
    "df_clean.isnull().sum().any()"
   ]
  },
  {
   "cell_type": "code",
   "execution_count": 15,
   "metadata": {},
   "outputs": [
    {
     "name": "stdout",
     "output_type": "stream",
     "text": [
      "start_time : <class 'pandas._libs.tslibs.timestamps.Timestamp'>\n",
      "end_time : <class 'pandas._libs.tslibs.timestamps.Timestamp'>\n",
      "start_station_id : <class 'numpy.int32'>\n",
      "end_station_id : <class 'numpy.int32'>\n"
     ]
    }
   ],
   "source": [
    "# Check datatypes of columns\n",
    "columns_changed = columns_datetime + columns_int\n",
    "\n",
    "for c in columns_changed:\n",
    "    print(c, ':', type(df_clean[c][0]))"
   ]
  },
  {
   "cell_type": "markdown",
   "metadata": {},
   "source": [
    "#### II. Store df_clean"
   ]
  },
  {
   "cell_type": "code",
   "execution_count": 16,
   "metadata": {},
   "outputs": [],
   "source": [
    "# Storing df_clean as csv-file\n",
    "df_clean.to_csv('dataset_san_francisco_clean.csv', index=False)"
   ]
  },
  {
   "cell_type": "markdown",
   "metadata": {},
   "source": [
    "#### III. Clean df2"
   ]
  },
  {
   "cell_type": "code",
   "execution_count": 17,
   "metadata": {},
   "outputs": [],
   "source": [
    "# Create df2_clean from csv-file\n",
    "df2_clean = pd.read_csv('dataset_boston.csv', dtype={'start station id': np.float32, 'start station latitude': np.float32,\n",
    "                                           'start station longitude':np.float32, 'end station id': np.float32,\n",
    "                                           'end station latitude': np.float32, 'end station longitude':np.float32,\n",
    "                                           'usertype': 'category'})"
   ]
  },
  {
   "cell_type": "markdown",
   "metadata": {},
   "source": [
    "##### Define\n",
    "##### `df2_clean`\n",
    "- Removal of columns 'birth year' and 'gender' which have no counterpart in df\n",
    "- Column names of df2 don't match with column names from df -> Rename column names\n",
    "- Removal of null-alues from dataframe df2\n",
    "- Column 'starttime' to type datetime\n",
    "- Column 'stoptime' to type datetime\n",
    "\n",
    "##### Code"
   ]
  },
  {
   "cell_type": "code",
   "execution_count": 18,
   "metadata": {},
   "outputs": [],
   "source": [
    "# Droping columns without counterpart in df2_clean\n",
    "df2_clean.drop(['birth year', 'gender'], axis=1, inplace=True)"
   ]
  },
  {
   "cell_type": "code",
   "execution_count": 19,
   "metadata": {},
   "outputs": [],
   "source": [
    "# Extracting column names from df_clean\n",
    "column_labels_new = ['duration_sec','start_time', 'end_time', 'start_station_id', 'start_station_name', 'start_station_latitude',\n",
    "                     'start_station_longitude', 'end_station_id', 'end_station_name', 'end_station_latitude',\n",
    "                     'end_station_longitude', 'bike_id', 'user_type']\n",
    "\n",
    "# Renaming column names of df2_clean\n",
    "df2_clean.columns = column_labels_new"
   ]
  },
  {
   "cell_type": "code",
   "execution_count": 20,
   "metadata": {},
   "outputs": [],
   "source": [
    "# Droping rows with null-values from dataframe\n",
    "df2_clean.dropna(inplace = True)"
   ]
  },
  {
   "cell_type": "code",
   "execution_count": 21,
   "metadata": {},
   "outputs": [],
   "source": [
    "# Changing columns 'start_time' and 'endtime' to type 'datetime'\n",
    "columns_datetime = ['start_time', 'end_time']\n",
    "\n",
    "for c in columns_datetime:\n",
    "    df2_clean[c] = pd.to_datetime(df2_clean[c])"
   ]
  },
  {
   "cell_type": "markdown",
   "metadata": {},
   "source": [
    "##### Check"
   ]
  },
  {
   "cell_type": "code",
   "execution_count": 22,
   "metadata": {},
   "outputs": [
    {
     "data": {
      "text/plain": [
       "False"
      ]
     },
     "execution_count": 22,
     "metadata": {},
     "output_type": "execute_result"
    }
   ],
   "source": [
    "# Any null-values left in dataframe?\n",
    "df2_clean.isnull().sum().any()"
   ]
  },
  {
   "cell_type": "code",
   "execution_count": 23,
   "metadata": {},
   "outputs": [
    {
     "name": "stdout",
     "output_type": "stream",
     "text": [
      "start_time : <class 'pandas._libs.tslibs.timestamps.Timestamp'>\n",
      "end_time : <class 'pandas._libs.tslibs.timestamps.Timestamp'>\n"
     ]
    }
   ],
   "source": [
    "# Check datatypes of columns\n",
    "columns_changed = columns_datetime\n",
    "\n",
    "for c in columns_changed:\n",
    "    print(c, ':', type(df2_clean[c][0]))"
   ]
  },
  {
   "cell_type": "markdown",
   "metadata": {},
   "source": [
    "#### IV. Store df2_clean"
   ]
  },
  {
   "cell_type": "code",
   "execution_count": 24,
   "metadata": {},
   "outputs": [],
   "source": [
    "# Save df2_clean as csv-file in folder\n",
    "df2_clean.to_csv('dataset_boston_clean.csv', index=False)"
   ]
  },
  {
   "cell_type": "markdown",
   "metadata": {},
   "source": [
    "<a id='eda'></a>\n",
    "## Exploratory Data Analysis\n",
    "As the Explanatory analysis is the core piece of this project, the following steps will be explained in detail. As data for the bike sharing system in San Francisco as well as the bike sharing system in the Boston area have been provided, the focus of the analysis will be on similarities and differences between these datasets."
   ]
  },
  {
   "cell_type": "code",
   "execution_count": 25,
   "metadata": {},
   "outputs": [
    {
     "name": "stdout",
     "output_type": "stream",
     "text": [
      "<class 'pandas.core.frame.DataFrame'>\n",
      "Int64Index: 2522537 entries, 0 to 2522536\n",
      "Data columns (total 13 columns):\n",
      " #   Column                   Dtype         \n",
      "---  ------                   -----         \n",
      " 0   duration_sec             int64         \n",
      " 1   start_time               datetime64[ns]\n",
      " 2   end_time                 datetime64[ns]\n",
      " 3   start_station_id         float32       \n",
      " 4   start_station_name       object        \n",
      " 5   start_station_latitude   float32       \n",
      " 6   start_station_longitude  float32       \n",
      " 7   end_station_id           float32       \n",
      " 8   end_station_name         object        \n",
      " 9   end_station_latitude     float32       \n",
      " 10  end_station_longitude    float32       \n",
      " 11  bike_id                  int64         \n",
      " 12  user_type                category      \n",
      "dtypes: category(1), datetime64[ns](2), float32(6), int64(2), object(2)\n",
      "memory usage: 175.6+ MB\n"
     ]
    }
   ],
   "source": [
    "df2_clean.info()"
   ]
  },
  {
   "cell_type": "markdown",
   "metadata": {},
   "source": [
    "### I. What is the structure of this dataset?\n",
    "The dataset for the bike rental system in the San Francisco area contains 2,407,259 observations and the dataset for the bikesharing system in Boston contains 2,522,537 observations. Each observation is the activity of a user who is accessing a rental bicycle at a specific station and returning it at the same or at another station of the bike sharing system. Due to the efforts in the cleaning phase of this project the structure of both datasets is identical.\n",
    "\n",
    "Variables within the datasets:\n",
    "- **'start_time', 'end_time':** mark the start and end of a rental activity\n",
    "- **'duration_sec'**: the time difference between start and end of a rental activity in seconds\n",
    "- **'start_station_id', 'start_station_name', 'start_station_latitude', 'start_station_longitude', 'end_station_id', 'end_station_latitude', 'end_station_longitude':** Identificational as well as geographical information about the system station the bike has been taken from and brought back to\n",
    "- **'bike_id'**: Unique identification number of a bicycle within the bike rental system\n",
    "- **'user_type'**: Classifies the person who performs a rental activity. Can either be a **Customer** (annual membership) or a **Subscriber** (day or multiple day pass)"
   ]
  },
  {
   "cell_type": "markdown",
   "metadata": {},
   "source": [
    "### II. What are the main features of interest within this dataset?\n",
    "As I want to identifiy similarities and differences within the bike sharing systems in San Francisco and Boston the focus of the analysis will be on the characteristics 'duration_sec', 'start_time' and 'user_type' which allow a comparison of the data within the two datasets."
   ]
  },
  {
   "cell_type": "markdown",
   "metadata": {},
   "source": [
    "### III. Exploration of bike utilization duration"
   ]
  },
  {
   "cell_type": "code",
   "execution_count": 26,
   "metadata": {},
   "outputs": [
    {
     "data": {
      "text/plain": [
       "count    2.407259e+06\n",
       "mean     8.048171e+02\n",
       "std      1.910718e+03\n",
       "min      6.000000e+01\n",
       "25%      3.580000e+02\n",
       "50%      5.690000e+02\n",
       "75%      8.830000e+02\n",
       "max      8.623000e+04\n",
       "Name: duration_sec, dtype: float64"
      ]
     },
     "execution_count": 26,
     "metadata": {},
     "output_type": "execute_result"
    }
   ],
   "source": [
    "# Checking main values for column 'duration_sec' for Boston area\n",
    "df_clean.duration_sec.describe()"
   ]
  },
  {
   "cell_type": "code",
   "execution_count": 27,
   "metadata": {},
   "outputs": [
    {
     "data": {
      "text/plain": [
       "count    2.522537e+06\n",
       "mean     1.471834e+03\n",
       "std      2.190802e+04\n",
       "min      6.100000e+01\n",
       "25%      4.180000e+02\n",
       "50%      7.070000e+02\n",
       "75%      1.185000e+03\n",
       "max      3.581049e+06\n",
       "Name: duration_sec, dtype: float64"
      ]
     },
     "execution_count": 27,
     "metadata": {},
     "output_type": "execute_result"
    }
   ],
   "source": [
    "# Checking main values for column 'duration_sec' for Boston area\n",
    "df2_clean.duration_sec.describe()"
   ]
  },
  {
   "cell_type": "code",
   "execution_count": 28,
   "metadata": {},
   "outputs": [
    {
     "data": {
      "image/png": "[encoded data removed]",
      "text/plain": [
       "<Figure size 720x360 with 1 Axes>"
      ]
     },
     "metadata": {
      "needs_background": "light"
     },
     "output_type": "display_data"
    }
   ],
   "source": [
    "# Visual comparison of 'duration_sec' for San Francisco and Boston area\n",
    "plt.figure(figsize = [10,5])\n",
    "\n",
    "plt.hist(data=df_clean, x = 'duration_sec', alpha=.5)\n",
    "plt.hist(data=df2_clean, x = 'duration_sec', alpha=.5)\n",
    "\n",
    "plt.title('Histogram: duration of bike utilization in 2019')\n",
    "plt.legend(['San Francisco', 'Boston'])\n",
    "plt.xlabel('Duration [sec]')\n",
    "plt.ylabel('Frequency')\n",
    "plt.xticks(rotation= 0);"
   ]
  },
  {
   "cell_type": "markdown",
   "metadata": {},
   "source": [
    "The first attempt of comparing the frequency of bike utilization for the system in San Francisco and Boston visually via a histogram didn't work. The automatic bin size within the histogram is too large to differentiate between the durations within the datasets. There are few very long durations which make it additionally hard to analyze the differences between the two dataset. For the next visualization attempt the bin sized will be reduzed and the only observations with a duration <7200 sec (2 hours) will be plotted."
   ]
  },
  {
   "cell_type": "code",
   "execution_count": 29,
   "metadata": {},
   "outputs": [
    {
     "data": {
      "image/png": "[encoded data removed]",
      "text/plain": [
       "<Figure size 720x360 with 1 Axes>"
      ]
     },
     "metadata": {
      "needs_background": "light"
     },
     "output_type": "display_data"
    }
   ],
   "source": [
    "# Visual comparison of 'duration_sec' for San Francisco and Boston area with x axis limited from 0 to 7200sec (==2h)\n",
    "plt.figure(figsize = [10,5])\n",
    "bin_edges = np.arange(0, df_clean['duration_sec'].max()+5, 200)\n",
    "\n",
    "plt.hist(data=df_clean, x = 'duration_sec', bins=bin_edges, alpha=.5)\n",
    "plt.hist(data=df2_clean, x = 'duration_sec', bins=bin_edges, alpha=.5)\n",
    "\n",
    "plt.title('Histogram: duration of bike utilization in 2019')\n",
    "plt.legend(['San Francisco', 'Boston'])\n",
    "plt.ylabel('Frequency')\n",
    "plt.xlabel('Duration [sec]')\n",
    "plt.xlim(0, 7200);\n",
    "plt.xticks(rotation= 0);"
   ]
  },
  {
   "cell_type": "markdown",
   "metadata": {},
   "source": [
    "Within this histogram you can see that in the San Francisco bike sharing system more rental acitivites with a duration <800 sec have been recoreded than within the Boston system. However from a duration of 800 sec on observations are more frequent in the Boston bike share system data. We have to be careful with interpretations as we are comparing the absolute data from both systems, but as there were about 100,000 observations more within the Boston dataset it seems likely that rental bike users in San Francisco used their bikes in general more often for shorter durations than in Boston."
   ]
  },
  {
   "cell_type": "code",
   "execution_count": 30,
   "metadata": {},
   "outputs": [],
   "source": [
    "# Calculating mean duration of a trip\n",
    "duration_mean_sf = df_clean.duration_sec.mean()\n",
    "duration_mean_bo = df2_clean.duration_sec.mean()\n",
    "duration_mean = [duration_mean_sf, duration_mean_bo]"
   ]
  },
  {
   "cell_type": "code",
   "execution_count": 31,
   "metadata": {},
   "outputs": [],
   "source": [
    "# Creating dataframe for visualization purposes\n",
    "df_duration = pd.DataFrame()\n",
    "\n",
    "# Adding columns\n",
    "df_duration = df_duration.append(duration_mean)\n",
    "\n",
    "# Transpose df_duration\n",
    "df_duration = df_duration.transpose()\n",
    "\n",
    "# Renaming columns\n",
    "labels_new = ['San Francisco', 'Boston']\n",
    "df_duration.columns = labels_new\n",
    "\n",
    "# Setting index\n",
    "df_duration['index'] = ['']"
   ]
  },
  {
   "cell_type": "code",
   "execution_count": 32,
   "metadata": {},
   "outputs": [
    {
     "data": {
      "text/html": [
       "<div>\n",
       "<style scoped>\n",
       "    .dataframe tbody tr th:only-of-type {\n",
       "        vertical-align: middle;\n",
       "    }\n",
       "\n",
       "    .dataframe tbody tr th {\n",
       "        vertical-align: top;\n",
       "    }\n",
       "\n",
       "    .dataframe thead th {\n",
       "        text-align: right;\n",
       "    }\n",
       "</style>\n",
       "<table border=\"1\" class=\"dataframe\">\n",
       "  <thead>\n",
       "    <tr style=\"text-align: right;\">\n",
       "      <th></th>\n",
       "      <th>San Francisco</th>\n",
       "      <th>Boston</th>\n",
       "      <th>index</th>\n",
       "    </tr>\n",
       "  </thead>\n",
       "  <tbody>\n",
       "    <tr>\n",
       "      <th>0</th>\n",
       "      <td>804.817123</td>\n",
       "      <td>1471.833556</td>\n",
       "      <td></td>\n",
       "    </tr>\n",
       "  </tbody>\n",
       "</table>\n",
       "</div>"
      ],
      "text/plain": [
       "   San Francisco       Boston index\n",
       "0     804.817123  1471.833556      "
      ]
     },
     "execution_count": 32,
     "metadata": {},
     "output_type": "execute_result"
    }
   ],
   "source": [
    "# Checking df duration before creating plot\n",
    "df_duration"
   ]
  },
  {
   "cell_type": "code",
   "execution_count": 33,
   "metadata": {},
   "outputs": [
    {
     "data": {
      "image/png": "[encoded data removed]",
      "text/plain": [
       "<Figure size 432x288 with 1 Axes>"
      ]
     },
     "metadata": {
      "needs_background": "light"
     },
     "output_type": "display_data"
    }
   ],
   "source": [
    "# Plotting graph for mean duration of bike utilization\n",
    "df_duration.set_index('index').plot(kind='bar')\n",
    "plt.title('Mean duration of bike utilization in 2019')\n",
    "plt.xlabel('')\n",
    "plt.ylabel('Mean duration [sec]')\n",
    "plt.xticks(rotation= 0);"
   ]
  },
  {
   "cell_type": "markdown",
   "metadata": {},
   "source": [
    "The bar graph with the mean values for duration of bike utilization confirms the assumption that users in San Francisco used their rental bikes in 2019 in average for shorter durations (804.8 sec) than users did in the Boston area (1471 sec)."
   ]
  },
  {
   "cell_type": "markdown",
   "metadata": {},
   "source": [
    "### IV. Exploration of peaks in utilization throughout the year"
   ]
  },
  {
   "cell_type": "code",
   "execution_count": 34,
   "metadata": {
    "scrolled": true
   },
   "outputs": [
    {
     "data": {
      "image/png": "[encoded data removed]",
      "text/plain": [
       "<Figure size 1080x360 with 2 Axes>"
      ]
     },
     "metadata": {
      "needs_background": "light"
     },
     "output_type": "display_data"
    }
   ],
   "source": [
    "# Making sure column 'start_time' is in format 'datetime'\n",
    "df_clean['start_time'] = pd.to_datetime(df_clean['start_time'])\n",
    "df2_clean['start_time'] = pd.to_datetime(df2_clean['start_time'])\n",
    "\n",
    "# Print histogram for bike usage in 2019\n",
    "plt.figure(figsize = [15,5])\n",
    "base_color = sb.color_palette()[1]\n",
    "\n",
    "# Printing subplot #1\n",
    "plt.subplot(1, 2, 1)\n",
    "df_clean['start_time'].groupby(df_clean['start_time'].dt.month).count().plot(kind='bar')\n",
    "plt.title('San Francisco: Frequency of bike usage in 2019')\n",
    "plt.xlabel('Month')\n",
    "plt.ylabel('Number of bike uses')\n",
    "plt.ylim(0, 400000)\n",
    "plt.xticks(rotation= 0)\n",
    "\n",
    "# Printing subplot #2\n",
    "plt.subplot(1, 2, 2)\n",
    "df2_clean['start_time'].groupby(df2_clean['start_time'].dt.month).count().plot(kind='bar', color = base_color)\n",
    "plt.title('Boston: Frequency of bike usage in 2019')\n",
    "plt.xlabel('Month')\n",
    "plt.ylabel('Number of bike uses')\n",
    "plt.ylim(0, 400000)\n",
    "plt.xticks(rotation= 0);"
   ]
  },
  {
   "cell_type": "markdown",
   "metadata": {},
   "source": [
    "The two graphs show the frequency of bike uses for the San Francisco (blue, left side) and Boston system (orange, right side) within the year 2019. The graph with the San Francisco data shows a minimal value (<150,000) in december, whilst peaking in march, april, and october (all >230.000). In Boston the bike uses for 2019 show low values (<100,000) for the months january and february then increase gradually until they peak in September (>350,000) and then drop again until the end of the year. \n",
    "\n",
    "The differences in bike usage for the two datasets can mainly be explained by the different climatic conditions in San Francisco and Boston. San Francisco is located on the West Coast of the US which has a more moderate climate than Boston at the East Coast. Whilst locals and tourists find suitable cycling conditions in San Francisco throughout the whole year, people in Boston are way less likely to rent a bike during the cold winter months."
   ]
  },
  {
   "cell_type": "markdown",
   "metadata": {},
   "source": [
    "### V. Exploration of user types"
   ]
  },
  {
   "cell_type": "code",
   "execution_count": 35,
   "metadata": {},
   "outputs": [
    {
     "data": {
      "text/plain": [
       "Subscriber    1935042\n",
       "Customer       472217\n",
       "Name: user_type, dtype: int64"
      ]
     },
     "execution_count": 35,
     "metadata": {},
     "output_type": "execute_result"
    }
   ],
   "source": [
    "# Observing column 'user_type' for df_clean\n",
    "df_clean.user_type.value_counts()"
   ]
  },
  {
   "cell_type": "code",
   "execution_count": 36,
   "metadata": {},
   "outputs": [
    {
     "data": {
      "text/plain": [
       "Subscriber    1988467\n",
       "Customer       534070\n",
       "Name: user_type, dtype: int64"
      ]
     },
     "execution_count": 36,
     "metadata": {},
     "output_type": "execute_result"
    }
   ],
   "source": [
    "# Observing column 'user_type' for df2_clean\n",
    "df2_clean.user_type.value_counts()"
   ]
  },
  {
   "cell_type": "code",
   "execution_count": 37,
   "metadata": {},
   "outputs": [],
   "source": [
    "# Calculating total uses of bicycles\n",
    "uses_sf = df_clean.user_type.count()\n",
    "uses_bo = df2_clean.user_type.count()\n",
    "users_total = {'San Francisco':uses_sf, 'Boston':uses_bo}\n",
    "\n",
    "# Calculating user_types and number of uses\n",
    "user_types_sf = df_clean.user_type.value_counts()\n",
    "user_types_bo = df2_clean.user_type.value_counts()"
   ]
  },
  {
   "cell_type": "code",
   "execution_count": 38,
   "metadata": {},
   "outputs": [],
   "source": [
    "# Creating dataframe for visualization purposes\n",
    "comp_user_types = pd.DataFrame()\n",
    "\n",
    "# Adding calculated data to new df\n",
    "comp_user_types['San Francisco'] = user_types_sf\n",
    "comp_user_types['Boston'] = user_types_bo\n",
    "\n",
    "comp_user_types = comp_user_types.append(users_total, ignore_index=True)\n",
    "\n",
    "# Transpose comp_user_types\n",
    "comp_user_types = comp_user_types.transpose()\n",
    "\n",
    "# Renaming columns\n",
    "labels_new = ['Subscriber', 'Customer', 'Total']\n",
    "comp_user_types.columns = labels_new\n",
    "\n",
    "# Changing sequence of columns\n",
    "comp_user_types = comp_user_types[['Total', 'Subscriber', 'Customer']]\n",
    "\n",
    "# Transpose comp_user_types\n",
    "comp_user_types = comp_user_types.transpose()\n",
    "\n",
    "# Creating column 'index' with index labels\n",
    "comp_user_types['index'] = comp_user_types.index"
   ]
  },
  {
   "cell_type": "code",
   "execution_count": 39,
   "metadata": {},
   "outputs": [
    {
     "data": {
      "text/html": [
       "<div>\n",
       "<style scoped>\n",
       "    .dataframe tbody tr th:only-of-type {\n",
       "        vertical-align: middle;\n",
       "    }\n",
       "\n",
       "    .dataframe tbody tr th {\n",
       "        vertical-align: top;\n",
       "    }\n",
       "\n",
       "    .dataframe thead th {\n",
       "        text-align: right;\n",
       "    }\n",
       "</style>\n",
       "<table border=\"1\" class=\"dataframe\">\n",
       "  <thead>\n",
       "    <tr style=\"text-align: right;\">\n",
       "      <th></th>\n",
       "      <th>San Francisco</th>\n",
       "      <th>Boston</th>\n",
       "      <th>index</th>\n",
       "    </tr>\n",
       "  </thead>\n",
       "  <tbody>\n",
       "    <tr>\n",
       "      <th>Total</th>\n",
       "      <td>2407259</td>\n",
       "      <td>2522537</td>\n",
       "      <td>Total</td>\n",
       "    </tr>\n",
       "    <tr>\n",
       "      <th>Subscriber</th>\n",
       "      <td>1935042</td>\n",
       "      <td>1988467</td>\n",
       "      <td>Subscriber</td>\n",
       "    </tr>\n",
       "    <tr>\n",
       "      <th>Customer</th>\n",
       "      <td>472217</td>\n",
       "      <td>534070</td>\n",
       "      <td>Customer</td>\n",
       "    </tr>\n",
       "  </tbody>\n",
       "</table>\n",
       "</div>"
      ],
      "text/plain": [
       "            San Francisco   Boston       index\n",
       "Total             2407259  2522537       Total\n",
       "Subscriber        1935042  1988467  Subscriber\n",
       "Customer           472217   534070    Customer"
      ]
     },
     "execution_count": 39,
     "metadata": {},
     "output_type": "execute_result"
    }
   ],
   "source": [
    "# Checking dataframe before plotting chart\n",
    "comp_user_types"
   ]
  },
  {
   "cell_type": "code",
   "execution_count": 40,
   "metadata": {},
   "outputs": [
    {
     "data": {
      "image/png": "[encoded data removed]",
      "text/plain": [
       "<Figure size 432x288 with 1 Axes>"
      ]
     },
     "metadata": {
      "needs_background": "light"
     },
     "output_type": "display_data"
    }
   ],
   "source": [
    "# Plot clustered bar chart for usage of bikes\n",
    "comp_user_types.set_index('index').plot(kind='bar')\n",
    "plt.title('Uses of bike sharing system in 2019')\n",
    "plt.xlabel('')\n",
    "plt.ylabel('Number of bike uses')\n",
    "plt.xticks(rotation= 0);"
   ]
  },
  {
   "cell_type": "markdown",
   "metadata": {},
   "source": [
    "Within the graph which shows the number of bike uses in 2019 in total and assigned to the customer types only there are only small differences between the San Francisco and Boston dataset. For both bike sharing systems the number of uses by subscribers (short term access) is considerably higher (around 1,900,000) than the number of customer uses (around 500,000). However as we are regarding the absolute values for uses following we are also going to compare the proportional values for subscriber and customer uses."
   ]
  },
  {
   "cell_type": "code",
   "execution_count": 41,
   "metadata": {},
   "outputs": [],
   "source": [
    "# Preparing data for plot with percentage values for 'subscriber' and customer\n",
    "# Remove column 'index'\n",
    "comp_user_types.drop(['index'], axis=1, inplace=True)\n",
    "\n",
    "# Transpose comp_user_types\n",
    "comp_user_types = comp_user_types.transpose()\n",
    "\n",
    "# Calculating percentages\n",
    "comp_user_types['Subsciber_perc'] = comp_user_types['Subscriber']/comp_user_types['Total']\n",
    "comp_user_types['Customer_perc'] = comp_user_types['Customer']/comp_user_types['Total']\n",
    "\n",
    "# Remove columns 'total', 'customer' and 'subscriber'\n",
    "comp_user_types.drop(['Total','Subscriber','Customer'], axis=1, inplace=True)\n",
    "\n",
    "# Rename columns\n",
    "column_labels = ['Subscriber', 'Customer']\n",
    "comp_user_types.columns = column_labels\n",
    "\n",
    "# Transpose comp_user_types\n",
    "comp_user_types = comp_user_types.transpose()\n",
    "\n",
    "# Creating column 'index' with index labels\n",
    "comp_user_types['index'] = comp_user_types.index"
   ]
  },
  {
   "cell_type": "code",
   "execution_count": 42,
   "metadata": {},
   "outputs": [
    {
     "data": {
      "text/html": [
       "<div>\n",
       "<style scoped>\n",
       "    .dataframe tbody tr th:only-of-type {\n",
       "        vertical-align: middle;\n",
       "    }\n",
       "\n",
       "    .dataframe tbody tr th {\n",
       "        vertical-align: top;\n",
       "    }\n",
       "\n",
       "    .dataframe thead th {\n",
       "        text-align: right;\n",
       "    }\n",
       "</style>\n",
       "<table border=\"1\" class=\"dataframe\">\n",
       "  <thead>\n",
       "    <tr style=\"text-align: right;\">\n",
       "      <th></th>\n",
       "      <th>San Francisco</th>\n",
       "      <th>Boston</th>\n",
       "      <th>index</th>\n",
       "    </tr>\n",
       "  </thead>\n",
       "  <tbody>\n",
       "    <tr>\n",
       "      <th>Subscriber</th>\n",
       "      <td>0.803836</td>\n",
       "      <td>0.788281</td>\n",
       "      <td>Subscriber</td>\n",
       "    </tr>\n",
       "    <tr>\n",
       "      <th>Customer</th>\n",
       "      <td>0.196164</td>\n",
       "      <td>0.211719</td>\n",
       "      <td>Customer</td>\n",
       "    </tr>\n",
       "  </tbody>\n",
       "</table>\n",
       "</div>"
      ],
      "text/plain": [
       "            San Francisco    Boston       index\n",
       "Subscriber       0.803836  0.788281  Subscriber\n",
       "Customer         0.196164  0.211719    Customer"
      ]
     },
     "execution_count": 42,
     "metadata": {},
     "output_type": "execute_result"
    }
   ],
   "source": [
    "#Checking dataframe before plotting\n",
    "comp_user_types"
   ]
  },
  {
   "cell_type": "code",
   "execution_count": 43,
   "metadata": {},
   "outputs": [
    {
     "data": {
      "image/png": "[encoded data removed]",
      "text/plain": [
       "<Figure size 432x288 with 1 Axes>"
      ]
     },
     "metadata": {
      "needs_background": "light"
     },
     "output_type": "display_data"
    }
   ],
   "source": [
    "# Plot clustered bar chart for proportionate use of bikes\n",
    "ax = comp_user_types.set_index('index').plot(kind='bar')\n",
    "ax.yaxis.set_major_formatter(mtick.PercentFormatter(1.0))\n",
    "plt.title('Proporionate use of bike sharing system in 2019')\n",
    "plt.xlabel('')\n",
    "plt.ylabel('Portion of bike uses')\n",
    "plt.xticks(rotation= 0);"
   ]
  },
  {
   "cell_type": "markdown",
   "metadata": {},
   "source": [
    "As the comparison of the absolute values also the graph with the proportional uses shows similarities between the San Francisco and Boston dataset for the year 2019. The fact that the portion of subscribers for both datasets is way higher than the portion of customers could be partially explained by the fact that for both cities tourism is an important economic factor. Tourists are usually staying only a short time and are more likely than residents to use the bike sharing system as a subscriber (short term) than as a customer."
   ]
  },
  {
   "cell_type": "markdown",
   "metadata": {},
   "source": [
    "### VI. Exploration of further characteristics"
   ]
  },
  {
   "cell_type": "code",
   "execution_count": 44,
   "metadata": {},
   "outputs": [],
   "source": [
    "# Calculating the number of bikes in use\n",
    "num_bikes_sf = df_clean.bike_id.nunique()\n",
    "num_bikes_bo = df2_clean.bike_id.nunique()"
   ]
  },
  {
   "cell_type": "code",
   "execution_count": 45,
   "metadata": {},
   "outputs": [],
   "source": [
    "# Calculating how often a bike gets used in average\n",
    "mean_utilization_sf = df_clean.user_type.count()/num_bikes_sf\n",
    "mean_utilization_bo = df2_clean.user_type.count()/num_bikes_bo"
   ]
  },
  {
   "cell_type": "code",
   "execution_count": 46,
   "metadata": {},
   "outputs": [],
   "source": [
    "# Calculating utilization time per bike\n",
    "mean_bike_usage_sf = df_clean.groupby('bike_id').duration_sec.sum().mean()\n",
    "mean_bike_usage_bo = df2_clean.groupby('bike_id').duration_sec.sum().mean()"
   ]
  },
  {
   "cell_type": "code",
   "execution_count": 47,
   "metadata": {},
   "outputs": [],
   "source": [
    "# Calculating the capacity utilization level\n",
    "seconds_per_year = 365*24*60*60\n",
    "\n",
    "capacity_util_sf = mean_bike_usage_sf/seconds_per_year\n",
    "capacity_util_bo = mean_bike_usage_bo/seconds_per_year"
   ]
  },
  {
   "cell_type": "code",
   "execution_count": 48,
   "metadata": {},
   "outputs": [],
   "source": [
    "# Creating dataframe for visualization puroposes\n",
    "# Creating lists with calculated data\n",
    "data_sf = [num_bikes_sf, mean_utilization_sf, mean_bike_usage_sf, capacity_util_sf]\n",
    "data_bo = [num_bikes_bo, mean_utilization_bo, mean_bike_usage_bo, capacity_util_bo]\n",
    "\n",
    "# Creating new datafrane\n",
    "bike_utilization = pd.DataFrame()\n",
    "\n",
    "# Adding calculated data to dataframe\n",
    "bike_utilization['San Francisco'] = data_sf\n",
    "bike_utilization['Boston'] = data_bo\n",
    "\n",
    "# Adding index to dataframe\n",
    "bike_utilization['index'] = ['', '', '', '']"
   ]
  },
  {
   "cell_type": "code",
   "execution_count": 49,
   "metadata": {},
   "outputs": [
    {
     "data": {
      "text/html": [
       "<div>\n",
       "<style scoped>\n",
       "    .dataframe tbody tr th:only-of-type {\n",
       "        vertical-align: middle;\n",
       "    }\n",
       "\n",
       "    .dataframe tbody tr th {\n",
       "        vertical-align: top;\n",
       "    }\n",
       "\n",
       "    .dataframe thead th {\n",
       "        text-align: right;\n",
       "    }\n",
       "</style>\n",
       "<table border=\"1\" class=\"dataframe\">\n",
       "  <thead>\n",
       "    <tr style=\"text-align: right;\">\n",
       "      <th></th>\n",
       "      <th>San Francisco</th>\n",
       "      <th>Boston</th>\n",
       "      <th>index</th>\n",
       "    </tr>\n",
       "  </thead>\n",
       "  <tbody>\n",
       "    <tr>\n",
       "      <th>0</th>\n",
       "      <td>10766.000000</td>\n",
       "      <td>4652.000000</td>\n",
       "      <td></td>\n",
       "    </tr>\n",
       "    <tr>\n",
       "      <th>1</th>\n",
       "      <td>223.598272</td>\n",
       "      <td>542.247850</td>\n",
       "      <td></td>\n",
       "    </tr>\n",
       "    <tr>\n",
       "      <th>2</th>\n",
       "      <td>179955.718187</td>\n",
       "      <td>798098.581900</td>\n",
       "      <td></td>\n",
       "    </tr>\n",
       "    <tr>\n",
       "      <th>3</th>\n",
       "      <td>0.005706</td>\n",
       "      <td>0.025308</td>\n",
       "      <td></td>\n",
       "    </tr>\n",
       "  </tbody>\n",
       "</table>\n",
       "</div>"
      ],
      "text/plain": [
       "   San Francisco         Boston index\n",
       "0   10766.000000    4652.000000      \n",
       "1     223.598272     542.247850      \n",
       "2  179955.718187  798098.581900      \n",
       "3       0.005706       0.025308      "
      ]
     },
     "execution_count": 49,
     "metadata": {},
     "output_type": "execute_result"
    }
   ],
   "source": [
    "# Checking dataframe before plotting\n",
    "bike_utilization"
   ]
  },
  {
   "cell_type": "code",
   "execution_count": 50,
   "metadata": {},
   "outputs": [],
   "source": [
    "# Splitting bike_utilization into single dataframes to facilitate plot creation\n",
    "number_of_bikes = bike_utilization[0:1].copy()\n",
    "mean_uses_per_bike = bike_utilization[1:2].copy()\n",
    "capacity_utilization_per_bike = bike_utilization[3:4].copy()"
   ]
  },
  {
   "cell_type": "code",
   "execution_count": 51,
   "metadata": {},
   "outputs": [
    {
     "data": {
      "image/png": "[encoded data removed]",
      "text/plain": [
       "<Figure size 432x288 with 1 Axes>"
      ]
     },
     "metadata": {
      "needs_background": "light"
     },
     "output_type": "display_data"
    }
   ],
   "source": [
    "# Plot graph for number of bikes used\n",
    "number_of_bikes.set_index('index').plot(kind='bar')\n",
    "plt.title('Number of bikes used within bike sharing system in 2019')\n",
    "plt.xlabel('')\n",
    "plt.ylabel('Number of unique bikes used')\n",
    "plt.xticks(rotation= 0);"
   ]
  },
  {
   "cell_type": "markdown",
   "metadata": {},
   "source": [
    "The graph shows the number of different bikes which have been used within the bike sharing system in San Francisco and Boston in 2019. The number of bikes which have been used in San Francisco with 10,766 is more than twice as high as the number of bikes used in Boston (4,652)."
   ]
  },
  {
   "cell_type": "code",
   "execution_count": 52,
   "metadata": {},
   "outputs": [
    {
     "data": {
      "image/png": "[encoded data removed]",
      "text/plain": [
       "<Figure size 432x288 with 1 Axes>"
      ]
     },
     "metadata": {
      "needs_background": "light"
     },
     "output_type": "display_data"
    }
   ],
   "source": [
    "# Plot graph for utilization frequency\n",
    "mean_uses_per_bike.set_index('index').plot(kind='bar')\n",
    "plt.title('Mean utilization frequency for a single bike 2019')\n",
    "plt.xlabel('')\n",
    "plt.ylabel('Mean uses of a single bike')\n",
    "plt.xticks(rotation= 0);"
   ]
  },
  {
   "cell_type": "markdown",
   "metadata": {},
   "source": [
    "As we saw in the graph before, the number of bikes used in the Boston area is only half of the number of bikes in San Francisco. Accordingly bikes in Boston in average got used way more frequently (about 542 times) than bikes in San Francisco (about 224 times) in 2019."
   ]
  },
  {
   "cell_type": "code",
   "execution_count": 53,
   "metadata": {},
   "outputs": [
    {
     "data": {
      "image/png": "[encoded data removed]",
      "text/plain": [
       "<Figure size 432x288 with 1 Axes>"
      ]
     },
     "metadata": {
      "needs_background": "light"
     },
     "output_type": "display_data"
    }
   ],
   "source": [
    "# Plot graph for capacity utilization levels\n",
    "ax = capacity_utilization_per_bike.set_index('index').plot(kind='bar')\n",
    "ax.yaxis.set_major_formatter(mtick.PercentFormatter(1.0))\n",
    "plt.title('Mean capacity utilization level of bikes in 2019')\n",
    "plt.xlabel('')\n",
    "plt.ylabel('Mean capacity utilization')\n",
    "plt.xticks(rotation= 0);"
   ]
  },
  {
   "cell_type": "markdown",
   "metadata": {},
   "source": [
    "This graph shows the mean capacity utilization levels for the two datasets within the year 2019 and summarizes the two graphs we saw before. Mean capacity utilization signifies the mean time a bike is actually used within the year divided by the time the bicycle has theoretically been available throughout the year. The Boston bike sharing system shows a mean capacity utilization level of about 2.5 percent whilst San Francisco only shows a level of 0.5 percent.\n",
    "\n",
    "As way less bicycles been used in the Boston dataset throughout the year, the total number of uses has been slightly in Boston than in San Francisco and the mean usage duration has been higher, we expected the bike utilization level in Boston to be significantly higher than in San Francisco."
   ]
  },
  {
   "cell_type": "markdown",
   "metadata": {},
   "source": [
    "### VII. Were there any surprising features?\n",
    "I deducted the most interesting insights from the graph which compared the bike uses throughout the months of the year 2019 for San Francisco and Boston. When I compared the graphs with mean temperature graphs for the two cities from the internet, the similarities of the graphs were astonishing. Obviously there is a strong possitive correlation between the use of rental bikes and the temperature respectively general weather conditions.\n",
    "From an economic point of view also the fact that the bike sharing system in Boston apparently only provides half the number of rental bikes whilst achieving a similar number of uses throughout the year 2019 was surprising."
   ]
  }
 ],
 "metadata": {
  "kernelspec": {
   "display_name": "Python 3",
   "language": "python",
   "name": "python3"
  },
  "language_info": {
   "codemirror_mode": {
    "name": "ipython",
    "version": 3
   },
   "file_extension": ".py",
   "mimetype": "text/x-python",
   "name": "python",
   "nbconvert_exporter": "python",
   "pygments_lexer": "ipython3",
   "version": "3.8.2"
  }
 },
 "nbformat": 4,
 "nbformat_minor": 2
}
